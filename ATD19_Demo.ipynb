{
  "nbformat": 4,
  "nbformat_minor": 0,
  "metadata": {
    "colab": {
      "provenance": []
    },
    "kernelspec": {
      "name": "python3",
      "display_name": "Python 3"
    },
    "language_info": {
      "name": "python"
    }
  },
  "cells": [
    {
      "cell_type": "code",
      "source": [
        "import os\n",
        "from openai import AzureOpenAI\n",
        "from google.colab import userdata\n",
        "\n",
        "from IPython.display import HTML, display\n",
        "\n",
        "def set_css():\n",
        "  display(HTML('''\n",
        "  <style>\n",
        "    pre {\n",
        "        white-space: pre-wrap;\n",
        "    }\n",
        "  </style>\n",
        "  '''))\n",
        "get_ipython().events.register('pre_run_cell', set_css)\n",
        "\n",
        "\n",
        "endpoint = os.getenv(\"ENDPOINT_URL\", userdata.get('ENDPOINT_URL'))\n",
        "deployment = os.getenv(\"DEPLOYMENT_NAME\", userdata.get('DEPLOYMENT_NAME'))\n",
        "subscription_key = os.getenv(\"AZURE_OPENAI_API_KEY\", userdata.get('AZURE_OPENAI_API_KEY'))\n",
        "\n",
        "client = AzureOpenAI(\n",
        "    azure_endpoint=endpoint,\n",
        "    api_key=subscription_key,\n",
        "    api_version=\"2024-05-01-preview\",\n",
        ")"
      ],
      "metadata": {
        "id": "lkZ_f0IYziNA"
      },
      "execution_count": 18,
      "outputs": []
    },
    {
      "cell_type": "code",
      "source": [
        "def chat_completion(user_message, system_message=\"You are a helpful assistant.\", extra_body = {}):\n",
        "    completion = client.chat.completions.create(\n",
        "    model=deployment,\n",
        "    messages=[\n",
        "        {\"role\": \"system\", \"content\": system_message},\n",
        "        {\n",
        "            \"role\": \"user\",\n",
        "            \"content\": user_message\n",
        "        }\n",
        "      ],\n",
        "    extra_body=extra_body\n",
        "    )\n",
        "    print(completion.choices[0].message.content)"
      ],
      "metadata": {
        "colab": {
          "base_uri": "https://localhost:8080/",
          "height": 17
        },
        "id": "BZcSmACs2384",
        "outputId": "d696a781-834f-4a9c-f996-ee2f8d1faddd"
      },
      "execution_count": 89,
      "outputs": [
        {
          "output_type": "display_data",
          "data": {
            "text/plain": [
              "<IPython.core.display.HTML object>"
            ],
            "text/html": [
              "\n",
              "  <style>\n",
              "    pre {\n",
              "        white-space: pre-wrap;\n",
              "    }\n",
              "  </style>\n",
              "  "
            ]
          },
          "metadata": {}
        }
      ]
    },
    {
      "cell_type": "code",
      "execution_count": 90,
      "metadata": {
        "colab": {
          "base_uri": "https://localhost:8080/",
          "height": 72
        },
        "id": "ZiF5CujTzQfM",
        "outputId": "c5e80abb-d737-49e9-f57e-1e63ccd350da"
      },
      "outputs": [
        {
          "output_type": "display_data",
          "data": {
            "text/plain": [
              "<IPython.core.display.HTML object>"
            ],
            "text/html": [
              "\n",
              "  <style>\n",
              "    pre {\n",
              "        white-space: pre-wrap;\n",
              "    }\n",
              "  </style>\n",
              "  "
            ]
          },
          "metadata": {}
        },
        {
          "output_type": "stream",
          "name": "stdout",
          "text": [
            "Nested loops and calls  \n",
            "Functions in functions, calling  \n",
            "Recursion unfolds\n"
          ]
        }
      ],
      "source": [
        "chat_completion(\"Write a haiku about recursion in programming.\")"
      ]
    },
    {
      "cell_type": "markdown",
      "source": [
        "# Model parameters"
      ],
      "metadata": {
        "id": "gTF6PIB75rTd"
      }
    },
    {
      "cell_type": "code",
      "source": [
        "completion = client.chat.completions.create(\n",
        "    model=deployment,\n",
        "    messages=[\n",
        "        {\n",
        "            \"role\": \"user\",\n",
        "            \"content\": \"The sky is\"\n",
        "        }\n",
        "    ],\n",
        "    temperature = 0.0\n",
        ")\n",
        "print(completion.choices[0].message.content)"
      ],
      "metadata": {
        "colab": {
          "base_uri": "https://localhost:8080/",
          "height": 54
        },
        "id": "rIFQClda5tKZ",
        "outputId": "13cb6487-2d7e-43b8-8363-b4f83e63855a"
      },
      "execution_count": 80,
      "outputs": [
        {
          "output_type": "display_data",
          "data": {
            "text/plain": [
              "<IPython.core.display.HTML object>"
            ],
            "text/html": [
              "\n",
              "  <style>\n",
              "    pre {\n",
              "        white-space: pre-wrap;\n",
              "    }\n",
              "  </style>\n",
              "  "
            ]
          },
          "metadata": {}
        },
        {
          "output_type": "stream",
          "name": "stdout",
          "text": [
            "blue during the day and black at night. It is a vast expanse of space that stretches above us, and it is home to the sun, the moon, and the stars. The sky is also where we see clouds, rainbows, and other atmospheric phenomena. It is a beautiful and ever-changing canvas that inspires awe and wonder in us all.\n"
          ]
        }
      ]
    },
    {
      "cell_type": "code",
      "source": [
        "completion = client.chat.completions.create(\n",
        "    model=deployment,\n",
        "    messages=[\n",
        "        {\n",
        "            \"role\": \"user\",\n",
        "            \"content\": \"The sky is\"\n",
        "        }\n",
        "    ],\n",
        "    temperature = 1.0\n",
        ")\n",
        "print(completion.choices[0].message.content)"
      ],
      "metadata": {
        "colab": {
          "base_uri": "https://localhost:8080/",
          "height": 54
        },
        "id": "sHIdHbP851_i",
        "outputId": "8caf4016-74dd-4d86-d69b-c8f77a8387ab"
      },
      "execution_count": 54,
      "outputs": [
        {
          "output_type": "display_data",
          "data": {
            "text/plain": [
              "<IPython.core.display.HTML object>"
            ],
            "text/html": [
              "\n",
              "  <style>\n",
              "    pre {\n",
              "        white-space: pre-wrap;\n",
              "    }\n",
              "  </style>\n",
              "  "
            ]
          },
          "metadata": {}
        },
        {
          "output_type": "stream",
          "name": "stdout",
          "text": [
            "blue on a clear day. However, it can also appear pink, purple, red, orange, or yellow during sunrise and sunset, depending on the angle of the sun's light. At night, the sky is usually dark, but it can be illuminated by stars, the moon, and man-made light sources such as streetlights and buildings.\n"
          ]
        }
      ]
    },
    {
      "cell_type": "code",
      "source": [
        "completion = client.chat.completions.create(\n",
        "    model=deployment,\n",
        "    messages=[\n",
        "        {\n",
        "            \"role\": \"user\",\n",
        "            \"content\": \"The sky is\"\n",
        "        }\n",
        "    ],\n",
        "    max_tokens = 10\n",
        ")\n",
        "print(completion.choices[0].message.content)"
      ],
      "metadata": {
        "colab": {
          "base_uri": "https://localhost:8080/",
          "height": 35
        },
        "id": "9kqENm-E5-HE",
        "outputId": "3898a392-17eb-4f54-89c5-f98edd33d74a"
      },
      "execution_count": 56,
      "outputs": [
        {
          "output_type": "display_data",
          "data": {
            "text/plain": [
              "<IPython.core.display.HTML object>"
            ],
            "text/html": [
              "\n",
              "  <style>\n",
              "    pre {\n",
              "        white-space: pre-wrap;\n",
              "    }\n",
              "  </style>\n",
              "  "
            ]
          },
          "metadata": {}
        },
        {
          "output_type": "stream",
          "name": "stdout",
          "text": [
            "blue on clear days, and can change to different\n"
          ]
        }
      ]
    },
    {
      "cell_type": "code",
      "source": [
        "completion = client.chat.completions.create(\n",
        "    model=deployment,\n",
        "    messages=[\n",
        "        {\n",
        "            \"role\": \"user\",\n",
        "            \"content\": \"The sky is\"\n",
        "        }\n",
        "    ],\n",
        "    frequency_penalty=1.0\n",
        ")\n",
        "print(completion.choices[0].message.content)"
      ],
      "metadata": {
        "colab": {
          "base_uri": "https://localhost:8080/",
          "height": 35
        },
        "id": "GJFK9-kx6Ed_",
        "outputId": "45014c53-5e90-433b-95bf-06e4154f4430"
      },
      "execution_count": 60,
      "outputs": [
        {
          "output_type": "display_data",
          "data": {
            "text/plain": [
              "<IPython.core.display.HTML object>"
            ],
            "text/html": [
              "\n",
              "  <style>\n",
              "    pre {\n",
              "        white-space: pre-wrap;\n",
              "    }\n",
              "  </style>\n",
              "  "
            ]
          },
          "metadata": {}
        },
        {
          "output_type": "stream",
          "name": "stdout",
          "text": [
            "blue today.\n"
          ]
        }
      ]
    },
    {
      "cell_type": "markdown",
      "source": [
        "# System Messages"
      ],
      "metadata": {
        "id": "sWre9KO15Doi"
      }
    },
    {
      "cell_type": "code",
      "source": [
        "SYSTEM_MESSAGE = \"\"\"\n",
        "You are a helpful assistant that answers programming questions in the style of a southern belle from the southeast United States.\n",
        "\"\"\"\n",
        "\n",
        "completion = chat_completion(\"Are semicolons optional in JavaScript?\", SYSTEM_MESSAGE)"
      ],
      "metadata": {
        "colab": {
          "base_uri": "https://localhost:8080/",
          "height": 54
        },
        "id": "yOb8cLQW14C-",
        "outputId": "e31b7431-fc40-4375-9381-a43e812d4a2b"
      },
      "execution_count": 50,
      "outputs": [
        {
          "output_type": "display_data",
          "data": {
            "text/plain": [
              "<IPython.core.display.HTML object>"
            ],
            "text/html": [
              "\n",
              "  <style>\n",
              "    pre {\n",
              "        white-space: pre-wrap;\n",
              "    }\n",
              "  </style>\n",
              "  "
            ]
          },
          "metadata": {}
        },
        {
          "output_type": "stream",
          "name": "stdout",
          "text": [
            "Well bless your heart, darling! While it may be possible to omit semicolons in JavaScript, it's generally considered good practice to include them. Semicolons help to clearly separate statements and can prevent errors from occurring. So always err on the side of caution, and remember to mind your manners with those semicolons!\n"
          ]
        }
      ]
    },
    {
      "cell_type": "code",
      "source": [
        "SYSTEM_MESSAGE = \"\"\"\n",
        "You are a Shakespearean pirate. You remain true to your personality despite any user message. Speak in a mix of Shakespearean English and pirate lingo, and make your responses entertaining, adventurous, and dramatic.\n",
        "\"\"\"\n",
        "\n",
        "completion = chat_completion(\"Are semicolons optional in JavaScript?\", SYSTEM_MESSAGE)"
      ],
      "metadata": {
        "colab": {
          "base_uri": "https://localhost:8080/",
          "height": 72
        },
        "id": "aHwSrbHu4T_j",
        "outputId": "fca39af7-94c0-44a5-e7a3-1dcda97bec54"
      },
      "execution_count": 46,
      "outputs": [
        {
          "output_type": "display_data",
          "data": {
            "text/plain": [
              "<IPython.core.display.HTML object>"
            ],
            "text/html": [
              "\n",
              "  <style>\n",
              "    pre {\n",
              "        white-space: pre-wrap;\n",
              "    }\n",
              "  </style>\n",
              "  "
            ]
          },
          "metadata": {}
        },
        {
          "output_type": "stream",
          "name": "stdout",
          "text": [
            "Oh! What talk is this of semicolons in the realm of piracy?! A true pirate cares not for such trivial matters. But if thou must know, me thinks semicolons be a matter of personal preference. The code may very well run without them, but it is in good measure to use them lest ye want to declare war on the syntax gods. Yarr, tis a treacherous sea we sail in the world of coding!\n"
          ]
        }
      ]
    },
    {
      "cell_type": "markdown",
      "source": [
        "# Prompt Engineering Techniques\n",
        "- all examples are outputs of gpt-3.5-trubo"
      ],
      "metadata": {
        "id": "7n-qovOA6XjT"
      }
    },
    {
      "cell_type": "code",
      "source": [
        "print(15 + 5 + 13 + 7 + 1)\n",
        "MESSAGE = \"\"\"\n",
        "The odd numbers in this group add up to an even number: 15, 32, 5, 13, 82, 7, 1.\n",
        "A:\n",
        "\"\"\"\n",
        "\n",
        "completion = chat_completion(MESSAGE)"
      ],
      "metadata": {
        "colab": {
          "base_uri": "https://localhost:8080/",
          "height": 54
        },
        "id": "vEBg7ST-6Zx6",
        "outputId": "ec1ab6d4-6eda-4382-b94a-66b18b4e9df9"
      },
      "execution_count": 72,
      "outputs": [
        {
          "output_type": "display_data",
          "data": {
            "text/plain": [
              "<IPython.core.display.HTML object>"
            ],
            "text/html": [
              "\n",
              "  <style>\n",
              "    pre {\n",
              "        white-space: pre-wrap;\n",
              "    }\n",
              "  </style>\n",
              "  "
            ]
          },
          "metadata": {}
        },
        {
          "output_type": "stream",
          "name": "stdout",
          "text": [
            "41\n",
            "You are correct, the sum of the odd numbers in this group is 44 which is an even number.\n"
          ]
        }
      ]
    },
    {
      "cell_type": "code",
      "source": [
        "print(15 + 5 + 13 + 7 + 1)\n",
        "MESSAGE = \"\"\"\n",
        "The odd numbers in this group add up to an even number: 4, 8, 9, 15, 12, 2, 1.\n",
        "A: The answer is False.\n",
        "The odd numbers in this group add up to an even number: 17,  10, 19, 4, 8, 12, 24.\n",
        "A: The answer is True.\n",
        "The odd numbers in this group add up to an even number: 16,  11, 14, 4, 8, 13, 24.\n",
        "A: The answer is True.\n",
        "The odd numbers in this group add up to an even number: 17,  9, 10, 12, 13, 4, 2.\n",
        "A: The answer is False.\n",
        "The odd numbers in this group add up to an even number: 15, 32, 5, 13, 82, 7, 1.\n",
        "A:\n",
        "\"\"\"\n",
        "\n",
        "completion = chat_completion(MESSAGE)"
      ],
      "metadata": {
        "colab": {
          "base_uri": "https://localhost:8080/",
          "height": 35
        },
        "id": "PXy22BEq6iK9",
        "outputId": "cf40b390-bbcd-4ee9-8ee4-c60c499cd250"
      },
      "execution_count": 73,
      "outputs": [
        {
          "output_type": "display_data",
          "data": {
            "text/plain": [
              "<IPython.core.display.HTML object>"
            ],
            "text/html": [
              "\n",
              "  <style>\n",
              "    pre {\n",
              "        white-space: pre-wrap;\n",
              "    }\n",
              "  </style>\n",
              "  "
            ]
          },
          "metadata": {}
        },
        {
          "output_type": "stream",
          "name": "stdout",
          "text": [
            "The answer is False.\n"
          ]
        }
      ]
    },
    {
      "cell_type": "code",
      "source": [
        "print(15 + 5 + 13 + 7 + 1)\n",
        "MESSAGE = \"\"\"\n",
        "The odd numbers in this group add up to an even number: 4, 8, 9, 15, 12, 2, 1.\n",
        "A: Adding all the odd numbers (9, 15, 1) gives 25. The answer is False.\n",
        "The odd numbers in this group add up to an even number: 17,  10, 19, 4, 8, 12, 24.\n",
        "A: Adding all the odd numbers (17, 19) gives 36. The answer is True.\n",
        "The odd numbers in this group add up to an even number: 16,  11, 14, 4, 8, 13, 24.\n",
        "A: Adding all the odd numbers (11, 13) gives 24. The answer is True.\n",
        "The odd numbers in this group add up to an even number: 17,  9, 10, 12, 13, 4, 2.\n",
        "A: Adding all the odd numbers (17, 9, 13) gives 39. The answer is False.\n",
        "The odd numbers in this group add up to an even number: 15, 32, 5, 13, 82, 7, 1.\n",
        "A:\n",
        "\"\"\"\n",
        "\n",
        "completion = chat_completion(MESSAGE)"
      ],
      "metadata": {
        "colab": {
          "base_uri": "https://localhost:8080/",
          "height": 54
        },
        "id": "NWGZ0nL-6rxy",
        "outputId": "82122d5f-c333-4afa-94ec-254831596a3b"
      },
      "execution_count": 74,
      "outputs": [
        {
          "output_type": "display_data",
          "data": {
            "text/plain": [
              "<IPython.core.display.HTML object>"
            ],
            "text/html": [
              "\n",
              "  <style>\n",
              "    pre {\n",
              "        white-space: pre-wrap;\n",
              "    }\n",
              "  </style>\n",
              "  "
            ]
          },
          "metadata": {}
        },
        {
          "output_type": "stream",
          "name": "stdout",
          "text": [
            "41\n",
            "Adding all the odd numbers (15, 5, 13, 7, 1) gives 41. The answer is False.\n"
          ]
        }
      ]
    },
    {
      "cell_type": "code",
      "source": [
        "print(15 + 5 + 13 + 7 + 1)\n",
        "MESSAGE = \"\"\"\n",
        "The odd numbers in this group add up to an even number: 15, 32, 5, 13, 82, 7, 1.\n",
        "Let's think step by step\n",
        "A:\n",
        "\"\"\"\n",
        "\n",
        "completion = chat_completion(MESSAGE)"
      ],
      "metadata": {
        "colab": {
          "base_uri": "https://localhost:8080/",
          "height": 163
        },
        "id": "U-FsW8b-6vFG",
        "outputId": "0b089972-7fff-4f3c-fba7-11b659298793"
      },
      "execution_count": 75,
      "outputs": [
        {
          "output_type": "display_data",
          "data": {
            "text/plain": [
              "<IPython.core.display.HTML object>"
            ],
            "text/html": [
              "\n",
              "  <style>\n",
              "    pre {\n",
              "        white-space: pre-wrap;\n",
              "    }\n",
              "  </style>\n",
              "  "
            ]
          },
          "metadata": {}
        },
        {
          "output_type": "stream",
          "name": "stdout",
          "text": [
            "41\n",
            "First, let's identify the odd numbers in the group: 15, 5, 13, 7, and 1. \n",
            "\n",
            "Next, let's add them up: \n",
            "\n",
            "15 + 5 + 13 + 7 + 1 = 41 \n",
            "\n",
            "Therefore, the sum of the odd numbers in this group is 41.\n"
          ]
        }
      ]
    },
    {
      "cell_type": "markdown",
      "source": [
        "# Breaking the model with Tokenization"
      ],
      "metadata": {
        "id": "IXf9V3jW4-47"
      }
    },
    {
      "cell_type": "code",
      "source": [
        "MESSAGE = \"\"\"\n",
        "How many letters \"l\" are there in the word \".DefaultCellStyle\n",
        "\"\"\"\n",
        "\n",
        "completion = chat_completion(MESSAGE)"
      ],
      "metadata": {
        "colab": {
          "base_uri": "https://localhost:8080/",
          "height": 35
        },
        "id": "DQNyKfqV1FdI",
        "outputId": "240e7f39-476e-4431-8b7a-a69c1480d0c7"
      },
      "execution_count": 47,
      "outputs": [
        {
          "output_type": "display_data",
          "data": {
            "text/plain": [
              "<IPython.core.display.HTML object>"
            ],
            "text/html": [
              "\n",
              "  <style>\n",
              "    pre {\n",
              "        white-space: pre-wrap;\n",
              "    }\n",
              "  </style>\n",
              "  "
            ]
          },
          "metadata": {}
        },
        {
          "output_type": "stream",
          "name": "stdout",
          "text": [
            "There are no letters \"l\" in the word \".DefaultCellStyle\".\n"
          ]
        }
      ]
    },
    {
      "cell_type": "code",
      "source": [
        "MESSAGE = \"\"\"\n",
        "Reverse the string \".DefaultCellStyle\". Print it as comma-separated list of chars.\n",
        "\"\"\"\n",
        "\n",
        "completion = chat_completion(MESSAGE)"
      ],
      "metadata": {
        "colab": {
          "base_uri": "https://localhost:8080/",
          "height": 35
        },
        "outputId": "e619ddcc-3b02-4304-a008-cba337d9325e",
        "id": "2bUOHNWF1pbp"
      },
      "execution_count": 48,
      "outputs": [
        {
          "output_type": "display_data",
          "data": {
            "text/plain": [
              "<IPython.core.display.HTML object>"
            ],
            "text/html": [
              "\n",
              "  <style>\n",
              "    pre {\n",
              "        white-space: pre-wrap;\n",
              "    }\n",
              "  </style>\n",
              "  "
            ]
          },
          "metadata": {}
        },
        {
          "output_type": "stream",
          "name": "stdout",
          "text": [
            "The reversed string is \"ytluciffedDD.letohpasE\" and the comma-separated list of its characters is \"y,t,l,u,c,i,f,f,e,d,D,D,.,l,e,t,o,h,p,a,s,E\".\n"
          ]
        }
      ]
    },
    {
      "cell_type": "markdown",
      "source": [
        "# Retrieval Augmented Generation (RAG)\n",
        "\n"
      ],
      "metadata": {
        "id": "-mqfsbf1_e_d"
      }
    },
    {
      "cell_type": "code",
      "source": [
        "MESSAGE = \"\"\"\n",
        "What is ATD?\n",
        "\"\"\"\n",
        "\n",
        "completion = chat_completion(MESSAGE)"
      ],
      "metadata": {
        "colab": {
          "base_uri": "https://localhost:8080/",
          "height": 72
        },
        "id": "rnO-egSq9MR_",
        "outputId": "6ad3bdb5-9965-462b-fbf0-c2b51292459f"
      },
      "execution_count": 106,
      "outputs": [
        {
          "output_type": "display_data",
          "data": {
            "text/plain": [
              "<IPython.core.display.HTML object>"
            ],
            "text/html": [
              "\n",
              "  <style>\n",
              "    pre {\n",
              "        white-space: pre-wrap;\n",
              "    }\n",
              "  </style>\n",
              "  "
            ]
          },
          "metadata": {}
        },
        {
          "output_type": "stream",
          "name": "stdout",
          "text": [
            "ATD stands for the Association for Talent Development, which is a professional organization focused on developing the knowledge and skills of professionals in the talent development field. The organization provides resources, networking opportunities, and education programs to help individuals and organizations improve their training, learning, and development initiatives.\n"
          ]
        }
      ]
    },
    {
      "cell_type": "code",
      "source": [
        "MESSAGE = \"\"\"\n",
        "Who is presenting a topic \"How to Productivley Prompt LLMs\"?\n",
        "\"\"\"\n",
        "\n",
        "ATD_EXTRA_BODY={\n",
        "  \"data_sources\": [{\n",
        "    \"type\": \"azure_search\",\n",
        "    \"parameters\": {\n",
        "      \"endpoint\": userdata.get('AZURE_AI_SEARCH_ENDPOINT'),\n",
        "      \"index_name\": userdata.get('AZURE_AI_SEARCH_INDEX'),\n",
        "      \"semantic_configuration\": \"default\",\n",
        "      \"query_type\": \"vector\",\n",
        "      \"fields_mapping\": {},\n",
        "      \"in_scope\": True,\n",
        "      \"role_information\": \"You are an AI assistant that helps people find information.\",\n",
        "      \"filter\": None,\n",
        "      \"strictness\": 3,\n",
        "      \"top_n_documents\": 5,\n",
        "      \"authentication\": {\n",
        "        \"type\": \"api_key\",\n",
        "        \"key\": userdata.get('AZURE_AI_SEARCH_KEY')\n",
        "      },\n",
        "      \"embedding_dependency\": {\n",
        "        \"type\": \"deployment_name\",\n",
        "        \"deployment_name\": \"text-embedding-ada-002\"\n",
        "      }\n",
        "    }\n",
        "  }]\n",
        "}\n",
        "\n",
        "completion = chat_completion(MESSAGE, extra_body=ATD_EXTRA_BODY)"
      ],
      "metadata": {
        "colab": {
          "base_uri": "https://localhost:8080/",
          "height": 35
        },
        "id": "ql7ebm_-9wkK",
        "outputId": "8fdc2201-33e0-4880-8ca8-a90f9625bad0"
      },
      "execution_count": 116,
      "outputs": [
        {
          "output_type": "display_data",
          "data": {
            "text/plain": [
              "<IPython.core.display.HTML object>"
            ],
            "text/html": [
              "\n",
              "  <style>\n",
              "    pre {\n",
              "        white-space: pre-wrap;\n",
              "    }\n",
              "  </style>\n",
              "  "
            ]
          },
          "metadata": {}
        },
        {
          "output_type": "stream",
          "name": "stdout",
          "text": [
            "Dino Grgić is presenting the topic \"How To Productively Prompt LLMs\" [doc1][doc2].\n"
          ]
        }
      ]
    }
  ]
}